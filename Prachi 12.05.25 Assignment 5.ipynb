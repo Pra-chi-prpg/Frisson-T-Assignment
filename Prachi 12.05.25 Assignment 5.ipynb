{
 "cells": [
  {
   "cell_type": "code",
   "execution_count": 24,
   "id": "c6939ea4",
   "metadata": {},
   "outputs": [],
   "source": [
    "# Map()function\n",
    "\n",
    "# 1.Explain the purpose of the `map()` function in Python and provide an example of how it can be used to apply a function to each element of an iterable.\n",
    "\n",
    "\"\"\"The map() function is used to apply a given function to every item of an iterable, such as a list or tuple, and returns a map object (which is an iterator).\n",
    "        \n",
    "    syntax:    map(function, iterable)\n",
    "        \n",
    "function: The function we want to apply to every element of the iterable.\n",
    "iterable: The iterable whose elements we want to process.\"\"\"\n"
   ]
  },
  {
   "cell_type": "code",
   "execution_count": 6,
   "id": "01d5c64c",
   "metadata": {},
   "outputs": [
    {
     "name": "stdout",
     "output_type": "stream",
     "text": [
      "squared list: [1, 4, 9, 16, 25]\n"
     ]
    }
   ],
   "source": [
    "# 2.Write a Python program that uses the map() function to square each element of a list of numbers.\n",
    "n = [1, 2, 3, 4, 5]\n",
    "square_num = list(map(lambda x:x **2,n))\n",
    "print(\"squared list:\",square_num)\n"
   ]
  },
  {
   "cell_type": "code",
   "execution_count": null,
   "id": "d3693f06",
   "metadata": {},
   "outputs": [],
   "source": [
    "# 3. How does the `map()` function differ from a list comprehension in Python, and when would you choose one over the other\n",
    "'''   map()                                       list Comprehension  \n",
    "map() uses a function to process items.           List comprehension uses an inline expression.\n",
    "map(function, iterable)                           [expression for item in iterable]\n",
    "Needs a function (can be built-in,                 No need for an external function\n",
    "lambda, etc.)\n",
    "\n",
    "When to use:\n",
    "Use map() when you already have a function defined.\n",
    "Use list comprehensions for more readable, one-line transformations with logic.'''\n",
    "\n"
   ]
  },
  {
   "cell_type": "code",
   "execution_count": 12,
   "id": "844399da",
   "metadata": {},
   "outputs": [
    {
     "name": "stdout",
     "output_type": "stream",
     "text": [
      "convert name to uppercase: ['OGGY', 'TOM', 'BOB']\n",
      "the Length of Each Word in a List: [4, 3, 3]\n",
      "Custom Function to Multiple Lists: [5, 7, 9]\n"
     ]
    }
   ],
   "source": [
    "# 4.Create a Python program that uses the `map()` function to convert a list of names to uppercase.\n",
    "name=[\"oggy\",\"tom\",\"bob\"]\n",
    "uppercase=list(map(str.upper, name))\n",
    "print(\"convert name to uppercase:\",uppercase)\n",
    "\n",
    "\n",
    "# 5.Write a Python program that uses the `map()` function to calculate the length of each word in a list of strings.\n",
    "\n",
    "word_length= list(map(len,name))\n",
    "print(\"the Length of Each Word in a List:\",word_length)\n",
    "\n",
    "# 6.How can you use the `map()` function to apply a custom function to elements of multiple lists simultaneously in Python?\n",
    "def add(x,y):\n",
    "    return x+y\n",
    "l1=[1,2,3]\n",
    "l2=[4,5,6]\n",
    "sum_list=list(map(add,l1,l2))\n",
    "print(\"Custom Function to Multiple Lists:\",sum_list)\n",
    "\n",
    "\n",
    "\n"
   ]
  },
  {
   "cell_type": "code",
   "execution_count": 13,
   "id": "14dc277f",
   "metadata": {},
   "outputs": [
    {
     "name": "stdout",
     "output_type": "stream",
     "text": [
      " Convert Temperatures from Celsius to Fahrenheit: [89.6, 113.0, 122.0]\n",
      " Round Floating-Point Numbers to Nearest Integer: [1, 3, 6, 7, 9]\n"
     ]
    }
   ],
   "source": [
    "# 7.Create a Python program that uses `map()` to convert a list of temperatures from Celsius to Fahrenheit.\n",
    "celsius=[32,45,50]\n",
    "def fahren(c):\n",
    "    return (c * 9/5) + 32\n",
    "fahrenheit = list(map(fahren,celsius))\n",
    "print(\" Convert Temperatures from Celsius to Fahrenheit:\",fahrenheit)\n",
    "\n",
    "\n",
    "# 8.Write a Python program that uses the `map()` function to round each element of a list of floating-point numbers to the nearest integer.\n",
    "l3=[1.1,2.56,6.34,7.45,8.89]\n",
    "round_off=list(map(round,l3))\n",
    "print(\" Round Floating-Point Numbers to Nearest Integer:\",round_off)\n",
    "\n"
   ]
  },
  {
   "cell_type": "code",
   "execution_count": 25,
   "id": "deb8f61e",
   "metadata": {},
   "outputs": [
    {
     "name": "stdout",
     "output_type": "stream",
     "text": [
      "sum of all element in list: 25\n",
      "product of all element in a list: 945\n",
      "Maximum element in the list: 9\n"
     ]
    }
   ],
   "source": [
    "# Reduce :-\n",
    "\n",
    "# 1.What is the `reduce()` function in Python, and what module should you import to use it? Provide an example of its basic usage.\n",
    "\n",
    "\n",
    "\"\"\"The reduce() function is used to repeatedly apply a function to the elements of an iterable, \n",
    "reducing the iterable to a single cumulative value.\n",
    "To use reduce(), you must import it from the functools module:\"\"\"\n",
    "from functools import reduce\n",
    "# example\n",
    "lst=[1,3,5,7,9]\n",
    "sum_= reduce(lambda x,y: x + y,lst)\n",
    "print(\"sum of all element in list:\",sum_)\n",
    "\n",
    "\n",
    "# 2.Write a Python program that uses the `reduce()` function to find the product of all elements in a list.\n",
    "product=reduce(lambda x,y:x*y,lst)\n",
    "print(\"product of all element in a list:\",product)\n",
    "\n",
    "# 3.Create a Python program that uses `reduce()` to find the maximum element in a list of numbers.\n",
    "maximum= reduce(lambda x,y: x if x>y else y,lst)\n",
    "print(\"Maximum element in the list:\", maximum)\n",
    "\n"
   ]
  },
  {
   "cell_type": "code",
   "execution_count": 29,
   "id": "2d59ecfc",
   "metadata": {},
   "outputs": [
    {
     "name": "stdout",
     "output_type": "stream",
     "text": [
      "Concatenated string: hello world\n",
      "factorial of 5 is: 120\n"
     ]
    }
   ],
   "source": [
    "# 4.How can you use the `reduce()` function to concatenate a list of strings into a single string?\n",
    "word=[\"h\",\"e\",\"l\",\"l\",\"o\",\" \",\"world\"]\n",
    "res= reduce(lambda x,y:x+y,word)\n",
    "print(\"Concatenated string:\", res)\n",
    "\n",
    "\n",
    "# 5.Write a Python program that calculates the factorial of a number using the `reduce()` function.\n",
    "fact=reduce(lambda x,y: 1 if n==0 or n==1 else x*y ,range(1,6))\n",
    "print(\"factorial of 5 is:\", fact)\n",
    "\n"
   ]
  },
  {
   "cell_type": "code",
   "execution_count": 36,
   "id": "e8a622f4",
   "metadata": {},
   "outputs": [
    {
     "name": "stdout",
     "output_type": "stream",
     "text": [
      "GCD of the list is: 12\n",
      "sum of digit is: 10\n"
     ]
    }
   ],
   "source": [
    "# 6.Create a Python program that uses `reduce()` to find the GCD (Greatest Common Divisor) of a list of numbers.\n",
    "import math\n",
    "lst=[24,36,48,60]\n",
    "gcd=reduce(math.gcd,lst)\n",
    "print(\"GCD of the list is:\", gcd)\n",
    "\n",
    "# 7.Write a Python program that uses the `reduce()` function to find the sum of the digits of a given number.\n",
    "n = 1234\n",
    "digit_sum = reduce(lambda x, y: x + y, [int(d) for d in str(n)])\n",
    "print(\"sum of digit is:\",digit_sum)\n"
   ]
  },
  {
   "cell_type": "code",
   "execution_count": 38,
   "id": "c0dc7a9d",
   "metadata": {},
   "outputs": [
    {
     "name": "stdout",
     "output_type": "stream",
     "text": [
      "Positive numbers: [5, 8, 2]\n",
      "Even numbers: [2, 4, 6, 8, 10]\n"
     ]
    }
   ],
   "source": [
    "# Filter :-\n",
    "\n",
    "# 1.Explain the purpose of the `filter()` function in Python and provide an example of how it can be used to filter elements from an iterable.\n",
    "\"\"\"The filter() function is used to filter elements from an iterable (like a list or tuple) based on a condition defined in a function.\n",
    "It returns only those elements for which the function returns True.\n",
    "\n",
    "             syntax:   filter(function, iterable)\n",
    "\n",
    "function: A function that returns True or False\n",
    "iterable: A sequence (like list, tuple, etc.)  \"\"\"\n",
    "#  example of filtering positive number from list\n",
    "lst=[-3, 5, 0, -1, 8, 2]\n",
    "positive_num=list(filter(lambda x: x>0,lst))\n",
    "print(\"Positive numbers:\", positive_num)\n",
    "\n",
    "\n",
    "# 2.Write a Python program that uses the `filter()` function to select even numbers from a list of integers.\n",
    "lst2=[1,2,3,4,5,6,7,8,9,10]\n",
    "even_num= list(filter(lambda x: x%2 == 0,lst2))\n",
    "print(\"Even numbers:\", even_num)\n"
   ]
  },
  {
   "cell_type": "code",
   "execution_count": 44,
   "id": "bb0ca1d3",
   "metadata": {},
   "outputs": [
    {
     "name": "stdout",
     "output_type": "stream",
     "text": [
      "Names starting with 'P': ['Prachi', 'Pooja', 'Poonam']\n",
      "Prime numbers in the list: [2, 3, 5, 7, 11, 13, 17, 19]\n"
     ]
    }
   ],
   "source": [
    "# 3.Create a Python program that uses the `filter()` function to select names that start with a specific letter from a list of strings.\n",
    "name =[\"Prachi\",\"Tannu\",\"Pooja\",\"Poonam\",\"Abhi\",\"Karan\"]\n",
    "letter=\"P\"\n",
    "filter_name= list(filter(lambda x:x.startswith(letter),name))\n",
    "print(f\"Names starting with '{letter}':\", filter_name)\n",
    "\n",
    "\n",
    "# 4.Write a Python program that uses the `filter()` function to select prime numbers from a list of integers.\n",
    "number = list(range(1,21))\n",
    "def prime(n):\n",
    "    if n < 2:\n",
    "        return False\n",
    "    for i in range(2, int(n**0.5) + 1):\n",
    "        if n % i == 0:\n",
    "            return False\n",
    "    return True\n",
    "prime_num = list(filter(prime,number))\n",
    "print(\"Prime numbers in the list:\", prime_num)\n"
   ]
  },
  {
   "cell_type": "code",
   "execution_count": 3,
   "id": "b39111f4",
   "metadata": {},
   "outputs": [
    {
     "name": "stdout",
     "output_type": "stream",
     "text": [
      "List after removing None values: [1, 3, 5]\n",
      "word longer than 5 character: ['elephant ', 'umbrella', 'pineaplle']\n",
      "number greater than threshold 10 : [15, 12, 20, 18]\n"
     ]
    }
   ],
   "source": [
    "# 5.How can you use the `filter()` function to remove None values from a list in Python?\n",
    "lst=[1,None,3,None,5,None]\n",
    "filter_lst= list(filter(lambda x:x is not None,lst))\n",
    "print(\"List after removing None values:\", filter_lst)\n",
    "\n",
    "# 6.Create a Python program that uses `filter()` to select words longer than a certain length from a list of strings.\n",
    "word = [\"elephant \",\"umbrella\",\"bat\",\"apple\",\"pineaplle\"]\n",
    "word_len= 5\n",
    "long_word = list(filter(lambda word:len(word)>word_len,word))\n",
    "print(\"word longer than 5 character:\",long_word)\n",
    "\n",
    "# 7.Write a Python program that uses the `filter()` function to select elements greater than a specified threshold from a list of values\n",
    "number = [15, 12, 7, 20, 3,4, 18, 1]\n",
    "threshold=10\n",
    "greater_num=list(filter(lambda x:x>threshold,number))\n",
    "print(\"number greater than threshold\",threshold,\":\",greater_num)\n",
    "\n",
    "\n"
   ]
  },
  {
   "cell_type": "code",
   "execution_count": null,
   "id": "638b3c70",
   "metadata": {},
   "outputs": [],
   "source": []
  }
 ],
 "metadata": {
  "kernelspec": {
   "display_name": "Python 3 (ipykernel)",
   "language": "python",
   "name": "python3"
  },
  "language_info": {
   "codemirror_mode": {
    "name": "ipython",
    "version": 3
   },
   "file_extension": ".py",
   "mimetype": "text/x-python",
   "name": "python",
   "nbconvert_exporter": "python",
   "pygments_lexer": "ipython3",
   "version": "3.11.5"
  }
 },
 "nbformat": 4,
 "nbformat_minor": 5
}
